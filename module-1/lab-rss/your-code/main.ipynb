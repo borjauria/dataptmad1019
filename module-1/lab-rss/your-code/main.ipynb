{
 "cells": [
  {
   "cell_type": "markdown",
   "metadata": {},
   "source": [
    "# Working with RSS Feeds Lab\n",
    "\n",
    "Complete the following set of exercises to solidify your knowledge of parsing RSS feeds and extracting information from them."
   ]
  },
  {
   "cell_type": "code",
   "execution_count": 192,
   "metadata": {},
   "outputs": [
    {
     "name": "stdout",
     "output_type": "stream",
     "text": [
      "Requirement already satisfied: feedparser in /Users/borjauria/miniconda3/envs/ironhack_env/lib/python3.7/site-packages (5.2.1)\r\n"
     ]
    }
   ],
   "source": [
    "!pip install feedparser\n",
    "import feedparser"
   ]
  },
  {
   "cell_type": "markdown",
   "metadata": {},
   "source": [
    "### 1. Use feedparser to parse the following RSS feed URL."
   ]
  },
  {
   "cell_type": "code",
   "execution_count": 193,
   "metadata": {},
   "outputs": [],
   "source": [
    "url = 'http://feeds.feedburner.com/oreilly/radar/atom'"
   ]
  },
  {
   "cell_type": "code",
   "execution_count": 194,
   "metadata": {},
   "outputs": [],
   "source": [
    "d = feedparser.parse(url)"
   ]
  },
  {
   "cell_type": "markdown",
   "metadata": {},
   "source": [
    "### 2. Obtain a list of components (keys) that are available for this feed."
   ]
  },
  {
   "cell_type": "code",
   "execution_count": 265,
   "metadata": {},
   "outputs": [
    {
     "name": "stdout",
     "output_type": "stream",
     "text": [
      "dict_keys(['title', 'title_detail', 'links', 'link', 'comments', 'published', 'published_parsed', 'authors', 'author', 'author_detail', 'tags', 'id', 'guidislink', 'summary', 'summary_detail', 'content', 'wfw_commentrss', 'slash_comments', 'feedburner_origlink'])\n"
     ]
    }
   ],
   "source": [
    "entry = feed.entries[1]\n",
    "print (e.keys())"
   ]
  },
  {
   "cell_type": "markdown",
   "metadata": {},
   "source": [
    "### 3. Obtain a list of components (keys) that are available for the *feed* component of this RSS feed."
   ]
  },
  {
   "cell_type": "code",
   "execution_count": null,
   "metadata": {},
   "outputs": [],
   "source": []
  },
  {
   "cell_type": "markdown",
   "metadata": {},
   "source": [
    "### 4. Extract and print the feed title, subtitle, author, and link."
   ]
  },
  {
   "cell_type": "code",
   "execution_count": 196,
   "metadata": {},
   "outputs": [
    {
     "name": "stdout",
     "output_type": "stream",
     "text": [
      "########################################\n",
      "Use your people as competitive advantage\n",
      "########################################\n",
      "{'type': 'text/plain', 'language': None, 'base': 'http://feeds.feedburner.com/oreilly/radar/atom', 'value': 'Use your people as competitive advantage'}\n",
      "###################################\n",
      "Pamela Rucker\n",
      "#############\n",
      "http://feedproxy.google.com/~r/oreilly/radar/atom/~3/MGgJFA4urls/\n",
      "#################################################################\n"
     ]
    }
   ],
   "source": [
    "print(\"########################################\")\n",
    "print(f.title) \n",
    "print(\"########################################\")\n",
    "\n",
    "print(f.title_detail)\n",
    "print(\"###################################\")\n",
    "\n",
    "print(f.author)\n",
    "print(\"#############\")\n",
    "\n",
    "print(f.link)\n",
    "print(\"#################################################################\")"
   ]
  },
  {
   "cell_type": "markdown",
   "metadata": {},
   "source": [
    "### 5. Count the number of entries that are contained in this RSS feed."
   ]
  },
  {
   "cell_type": "code",
   "execution_count": 197,
   "metadata": {},
   "outputs": [
    {
     "name": "stdout",
     "output_type": "stream",
     "text": [
      "31\n"
     ]
    }
   ],
   "source": [
    "print(len(f.published))\n",
    "#OR\n",
    "#print(len(f.title))"
   ]
  },
  {
   "cell_type": "markdown",
   "metadata": {},
   "source": [
    "### 6. Obtain a list of components (keys) available for an entry.\n",
    "\n",
    "*Hint: Remember to index first before requesting the keys*"
   ]
  },
  {
   "cell_type": "code",
   "execution_count": null,
   "metadata": {},
   "outputs": [],
   "source": []
  },
  {
   "cell_type": "markdown",
   "metadata": {},
   "source": [
    "### 7. Extract a list of entry titles."
   ]
  },
  {
   "cell_type": "code",
   "execution_count": 248,
   "metadata": {},
   "outputs": [
    {
     "name": "stdout",
     "output_type": "stream",
     "text": [
      "Four short links: 4 December 2019\n",
      "Use your people as competitive advantage\n",
      "Four short links: 3 December 2019\n",
      "A 5G future\n",
      "Four short links: 2 December 2019\n",
      "Four short links: 29 November 2019\n",
      "Four short links: 28 November 2019\n",
      "Four short links: 27 November 2019\n",
      "Moving AI and ML from research into production\n",
      "Four short links: 26 November 2019\n",
      "Four short links: 25 November 2019\n",
      "Four short links: 22 November 2019\n",
      "Why you should care about robotic process automation\n",
      "Unraveling the mystery of code\n",
      "Four short links: 21 November 2019\n",
      "Four short links: 20 November 2019\n",
      "There’s a path to an AI ROI\n",
      "Four short links: 19 November 2019\n"
     ]
    }
   ],
   "source": [
    "post=[]\n",
    "for post in feed.entries:\n",
    "    print(post.title)"
   ]
  },
  {
   "cell_type": "markdown",
   "metadata": {},
   "source": [
    "### 8. Calculate the percentage of \"Four short links\" entry titles."
   ]
  },
  {
   "cell_type": "code",
   "execution_count": null,
   "metadata": {},
   "outputs": [],
   "source": []
  },
  {
   "cell_type": "markdown",
   "metadata": {},
   "source": [
    "### 9. Create a Pandas data frame from the feed's entries."
   ]
  },
  {
   "cell_type": "code",
   "execution_count": 224,
   "metadata": {},
   "outputs": [],
   "source": [
    "import pandas as pd"
   ]
  },
  {
   "cell_type": "code",
   "execution_count": 285,
   "metadata": {},
   "outputs": [
    {
     "data": {
      "text/html": [
       "<div>\n",
       "<style scoped>\n",
       "    .dataframe tbody tr th:only-of-type {\n",
       "        vertical-align: middle;\n",
       "    }\n",
       "\n",
       "    .dataframe tbody tr th {\n",
       "        vertical-align: top;\n",
       "    }\n",
       "\n",
       "    .dataframe thead th {\n",
       "        text-align: right;\n",
       "    }\n",
       "</style>\n",
       "<table border=\"1\" class=\"dataframe\">\n",
       "  <thead>\n",
       "    <tr style=\"text-align: right;\">\n",
       "      <th></th>\n",
       "      <th>title</th>\n",
       "      <th>title_detail</th>\n",
       "      <th>links</th>\n",
       "      <th>link</th>\n",
       "      <th>comments</th>\n",
       "      <th>published</th>\n",
       "      <th>published_parsed</th>\n",
       "      <th>authors</th>\n",
       "      <th>author</th>\n",
       "      <th>author_detail</th>\n",
       "      <th>tags</th>\n",
       "      <th>id</th>\n",
       "      <th>guidislink</th>\n",
       "      <th>summary</th>\n",
       "      <th>summary_detail</th>\n",
       "      <th>content</th>\n",
       "      <th>wfw_commentrss</th>\n",
       "      <th>slash_comments</th>\n",
       "      <th>feedburner_origlink</th>\n",
       "    </tr>\n",
       "  </thead>\n",
       "  <tbody>\n",
       "    <tr>\n",
       "      <th>0</th>\n",
       "      <td>Four short links: 4 December 2019</td>\n",
       "      <td>{'type': 'text/plain', 'language': None, 'base...</td>\n",
       "      <td>[{'rel': 'alternate', 'type': 'text/html', 'hr...</td>\n",
       "      <td>http://feedproxy.google.com/~r/oreilly/radar/a...</td>\n",
       "      <td>https://www.oreilly.com/radar/four-short-links...</td>\n",
       "      <td>Wed, 04 Dec 2019 05:01:00 +0000</td>\n",
       "      <td>(2019, 12, 4, 5, 1, 0, 2, 338, 0)</td>\n",
       "      <td>[{'name': 'Nat Torkington'}]</td>\n",
       "      <td>Nat Torkington</td>\n",
       "      <td>{'name': 'Nat Torkington'}</td>\n",
       "      <td>[{'term': 'Four Short Links', 'scheme': None, ...</td>\n",
       "      <td>https://www.oreilly.com/radar/?p=11129</td>\n",
       "      <td>False</td>\n",
       "      <td>The Complexity Explorer &amp;#8212; online courses...</td>\n",
       "      <td>{'type': 'text/html', 'language': None, 'base'...</td>\n",
       "      <td>[{'type': 'text/html', 'language': None, 'base...</td>\n",
       "      <td>https://www.oreilly.com/radar/four-short-links...</td>\n",
       "      <td>0</td>\n",
       "      <td>https://www.oreilly.com/radar/four-short-links...</td>\n",
       "    </tr>\n",
       "    <tr>\n",
       "      <th>1</th>\n",
       "      <td>Use your people as competitive advantage</td>\n",
       "      <td>{'type': 'text/plain', 'language': None, 'base...</td>\n",
       "      <td>[{'rel': 'alternate', 'type': 'text/html', 'hr...</td>\n",
       "      <td>http://feedproxy.google.com/~r/oreilly/radar/a...</td>\n",
       "      <td>https://www.oreilly.com/radar/use-your-people-...</td>\n",
       "      <td>Tue, 03 Dec 2019 09:00:00 +0000</td>\n",
       "      <td>(2019, 12, 3, 9, 0, 0, 1, 337, 0)</td>\n",
       "      <td>[{'name': 'Pamela Rucker'}]</td>\n",
       "      <td>Pamela Rucker</td>\n",
       "      <td>{'name': 'Pamela Rucker'}</td>\n",
       "      <td>[{'term': 'Future of the Firm', 'scheme': None...</td>\n",
       "      <td>https://www.oreilly.com/radar/?p=11068</td>\n",
       "      <td>False</td>\n",
       "      <td>In a fast-paced digital world, it is tempting ...</td>\n",
       "      <td>{'type': 'text/html', 'language': None, 'base'...</td>\n",
       "      <td>[{'type': 'text/html', 'language': None, 'base...</td>\n",
       "      <td>https://www.oreilly.com/radar/use-your-people-...</td>\n",
       "      <td>0</td>\n",
       "      <td>https://www.oreilly.com/radar/use-your-people-...</td>\n",
       "    </tr>\n",
       "    <tr>\n",
       "      <th>2</th>\n",
       "      <td>Four short links: 3 December 2019</td>\n",
       "      <td>{'type': 'text/plain', 'language': None, 'base...</td>\n",
       "      <td>[{'rel': 'alternate', 'type': 'text/html', 'hr...</td>\n",
       "      <td>http://feedproxy.google.com/~r/oreilly/radar/a...</td>\n",
       "      <td>https://www.oreilly.com/radar/four-short-links...</td>\n",
       "      <td>Tue, 03 Dec 2019 05:01:00 +0000</td>\n",
       "      <td>(2019, 12, 3, 5, 1, 0, 1, 337, 0)</td>\n",
       "      <td>[{'name': 'Nat Torkington'}]</td>\n",
       "      <td>Nat Torkington</td>\n",
       "      <td>{'name': 'Nat Torkington'}</td>\n",
       "      <td>[{'term': 'Four Short Links', 'scheme': None, ...</td>\n",
       "      <td>https://www.oreilly.com/radar/?p=11109</td>\n",
       "      <td>False</td>\n",
       "      <td>Oxide.computer &amp;#8212; a new hardware company,...</td>\n",
       "      <td>{'type': 'text/html', 'language': None, 'base'...</td>\n",
       "      <td>[{'type': 'text/html', 'language': None, 'base...</td>\n",
       "      <td>https://www.oreilly.com/radar/four-short-links...</td>\n",
       "      <td>0</td>\n",
       "      <td>https://www.oreilly.com/radar/four-short-links...</td>\n",
       "    </tr>\n",
       "    <tr>\n",
       "      <th>3</th>\n",
       "      <td>A 5G future</td>\n",
       "      <td>{'type': 'text/plain', 'language': None, 'base...</td>\n",
       "      <td>[{'rel': 'alternate', 'type': 'text/html', 'hr...</td>\n",
       "      <td>http://feedproxy.google.com/~r/oreilly/radar/a...</td>\n",
       "      <td>https://www.oreilly.com/radar/a-5g-future/#res...</td>\n",
       "      <td>Mon, 02 Dec 2019 10:00:00 +0000</td>\n",
       "      <td>(2019, 12, 2, 10, 0, 0, 0, 336, 0)</td>\n",
       "      <td>[{'name': 'Mike Loukides'}]</td>\n",
       "      <td>Mike Loukides</td>\n",
       "      <td>{'name': 'Mike Loukides'}</td>\n",
       "      <td>[{'term': 'Innovation &amp; Disruption', 'scheme':...</td>\n",
       "      <td>https://www.oreilly.com/radar/?p=11075</td>\n",
       "      <td>False</td>\n",
       "      <td>For the past year, 5G cell technology has gene...</td>\n",
       "      <td>{'type': 'text/html', 'language': None, 'base'...</td>\n",
       "      <td>[{'type': 'text/html', 'language': None, 'base...</td>\n",
       "      <td>https://www.oreilly.com/radar/a-5g-future/feed/</td>\n",
       "      <td>0</td>\n",
       "      <td>https://www.oreilly.com/radar/a-5g-future/</td>\n",
       "    </tr>\n",
       "    <tr>\n",
       "      <th>4</th>\n",
       "      <td>Four short links: 2 December 2019</td>\n",
       "      <td>{'type': 'text/plain', 'language': None, 'base...</td>\n",
       "      <td>[{'rel': 'alternate', 'type': 'text/html', 'hr...</td>\n",
       "      <td>http://feedproxy.google.com/~r/oreilly/radar/a...</td>\n",
       "      <td>https://www.oreilly.com/radar/four-short-links...</td>\n",
       "      <td>Mon, 02 Dec 2019 05:01:00 +0000</td>\n",
       "      <td>(2019, 12, 2, 5, 1, 0, 0, 336, 0)</td>\n",
       "      <td>[{'name': 'Nat Torkington'}]</td>\n",
       "      <td>Nat Torkington</td>\n",
       "      <td>{'name': 'Nat Torkington'}</td>\n",
       "      <td>[{'term': 'Four Short Links', 'scheme': None, ...</td>\n",
       "      <td>https://www.oreilly.com/radar/?p=11100</td>\n",
       "      <td>False</td>\n",
       "      <td>Two Years at Dropbox &amp;#8212; a lot of wisdom a...</td>\n",
       "      <td>{'type': 'text/html', 'language': None, 'base'...</td>\n",
       "      <td>[{'type': 'text/html', 'language': None, 'base...</td>\n",
       "      <td>https://www.oreilly.com/radar/four-short-links...</td>\n",
       "      <td>0</td>\n",
       "      <td>https://www.oreilly.com/radar/four-short-links...</td>\n",
       "    </tr>\n",
       "  </tbody>\n",
       "</table>\n",
       "</div>"
      ],
      "text/plain": [
       "                                      title  \\\n",
       "0         Four short links: 4 December 2019   \n",
       "1  Use your people as competitive advantage   \n",
       "2         Four short links: 3 December 2019   \n",
       "3                               A 5G future   \n",
       "4         Four short links: 2 December 2019   \n",
       "\n",
       "                                        title_detail  \\\n",
       "0  {'type': 'text/plain', 'language': None, 'base...   \n",
       "1  {'type': 'text/plain', 'language': None, 'base...   \n",
       "2  {'type': 'text/plain', 'language': None, 'base...   \n",
       "3  {'type': 'text/plain', 'language': None, 'base...   \n",
       "4  {'type': 'text/plain', 'language': None, 'base...   \n",
       "\n",
       "                                               links  \\\n",
       "0  [{'rel': 'alternate', 'type': 'text/html', 'hr...   \n",
       "1  [{'rel': 'alternate', 'type': 'text/html', 'hr...   \n",
       "2  [{'rel': 'alternate', 'type': 'text/html', 'hr...   \n",
       "3  [{'rel': 'alternate', 'type': 'text/html', 'hr...   \n",
       "4  [{'rel': 'alternate', 'type': 'text/html', 'hr...   \n",
       "\n",
       "                                                link  \\\n",
       "0  http://feedproxy.google.com/~r/oreilly/radar/a...   \n",
       "1  http://feedproxy.google.com/~r/oreilly/radar/a...   \n",
       "2  http://feedproxy.google.com/~r/oreilly/radar/a...   \n",
       "3  http://feedproxy.google.com/~r/oreilly/radar/a...   \n",
       "4  http://feedproxy.google.com/~r/oreilly/radar/a...   \n",
       "\n",
       "                                            comments  \\\n",
       "0  https://www.oreilly.com/radar/four-short-links...   \n",
       "1  https://www.oreilly.com/radar/use-your-people-...   \n",
       "2  https://www.oreilly.com/radar/four-short-links...   \n",
       "3  https://www.oreilly.com/radar/a-5g-future/#res...   \n",
       "4  https://www.oreilly.com/radar/four-short-links...   \n",
       "\n",
       "                         published                    published_parsed  \\\n",
       "0  Wed, 04 Dec 2019 05:01:00 +0000   (2019, 12, 4, 5, 1, 0, 2, 338, 0)   \n",
       "1  Tue, 03 Dec 2019 09:00:00 +0000   (2019, 12, 3, 9, 0, 0, 1, 337, 0)   \n",
       "2  Tue, 03 Dec 2019 05:01:00 +0000   (2019, 12, 3, 5, 1, 0, 1, 337, 0)   \n",
       "3  Mon, 02 Dec 2019 10:00:00 +0000  (2019, 12, 2, 10, 0, 0, 0, 336, 0)   \n",
       "4  Mon, 02 Dec 2019 05:01:00 +0000   (2019, 12, 2, 5, 1, 0, 0, 336, 0)   \n",
       "\n",
       "                        authors          author               author_detail  \\\n",
       "0  [{'name': 'Nat Torkington'}]  Nat Torkington  {'name': 'Nat Torkington'}   \n",
       "1   [{'name': 'Pamela Rucker'}]   Pamela Rucker   {'name': 'Pamela Rucker'}   \n",
       "2  [{'name': 'Nat Torkington'}]  Nat Torkington  {'name': 'Nat Torkington'}   \n",
       "3   [{'name': 'Mike Loukides'}]   Mike Loukides   {'name': 'Mike Loukides'}   \n",
       "4  [{'name': 'Nat Torkington'}]  Nat Torkington  {'name': 'Nat Torkington'}   \n",
       "\n",
       "                                                tags  \\\n",
       "0  [{'term': 'Four Short Links', 'scheme': None, ...   \n",
       "1  [{'term': 'Future of the Firm', 'scheme': None...   \n",
       "2  [{'term': 'Four Short Links', 'scheme': None, ...   \n",
       "3  [{'term': 'Innovation & Disruption', 'scheme':...   \n",
       "4  [{'term': 'Four Short Links', 'scheme': None, ...   \n",
       "\n",
       "                                       id  guidislink  \\\n",
       "0  https://www.oreilly.com/radar/?p=11129       False   \n",
       "1  https://www.oreilly.com/radar/?p=11068       False   \n",
       "2  https://www.oreilly.com/radar/?p=11109       False   \n",
       "3  https://www.oreilly.com/radar/?p=11075       False   \n",
       "4  https://www.oreilly.com/radar/?p=11100       False   \n",
       "\n",
       "                                             summary  \\\n",
       "0  The Complexity Explorer &#8212; online courses...   \n",
       "1  In a fast-paced digital world, it is tempting ...   \n",
       "2  Oxide.computer &#8212; a new hardware company,...   \n",
       "3  For the past year, 5G cell technology has gene...   \n",
       "4  Two Years at Dropbox &#8212; a lot of wisdom a...   \n",
       "\n",
       "                                      summary_detail  \\\n",
       "0  {'type': 'text/html', 'language': None, 'base'...   \n",
       "1  {'type': 'text/html', 'language': None, 'base'...   \n",
       "2  {'type': 'text/html', 'language': None, 'base'...   \n",
       "3  {'type': 'text/html', 'language': None, 'base'...   \n",
       "4  {'type': 'text/html', 'language': None, 'base'...   \n",
       "\n",
       "                                             content  \\\n",
       "0  [{'type': 'text/html', 'language': None, 'base...   \n",
       "1  [{'type': 'text/html', 'language': None, 'base...   \n",
       "2  [{'type': 'text/html', 'language': None, 'base...   \n",
       "3  [{'type': 'text/html', 'language': None, 'base...   \n",
       "4  [{'type': 'text/html', 'language': None, 'base...   \n",
       "\n",
       "                                      wfw_commentrss slash_comments  \\\n",
       "0  https://www.oreilly.com/radar/four-short-links...              0   \n",
       "1  https://www.oreilly.com/radar/use-your-people-...              0   \n",
       "2  https://www.oreilly.com/radar/four-short-links...              0   \n",
       "3    https://www.oreilly.com/radar/a-5g-future/feed/              0   \n",
       "4  https://www.oreilly.com/radar/four-short-links...              0   \n",
       "\n",
       "                                 feedburner_origlink  \n",
       "0  https://www.oreilly.com/radar/four-short-links...  \n",
       "1  https://www.oreilly.com/radar/use-your-people-...  \n",
       "2  https://www.oreilly.com/radar/four-short-links...  \n",
       "3         https://www.oreilly.com/radar/a-5g-future/  \n",
       "4  https://www.oreilly.com/radar/four-short-links...  "
      ]
     },
     "execution_count": 285,
     "metadata": {},
     "output_type": "execute_result"
    }
   ],
   "source": [
    "df = pd.DataFrame(feed.entries) \n",
    "df.head()"
   ]
  },
  {
   "cell_type": "markdown",
   "metadata": {},
   "source": [
    "### 10. Count the number of entries per author and sort them in descending order."
   ]
  },
  {
   "cell_type": "code",
   "execution_count": 286,
   "metadata": {},
   "outputs": [
    {
     "data": {
      "text/plain": [
       "[{'name': 'Nat Torkington'}]                                  12\n",
       "[{'name': 'Jenn Webb'}]                                        3\n",
       "[{'name': 'Mike Loukides'}]                                    1\n",
       "[{'name': 'Pamela Rucker'}]                                    1\n",
       "[{'name': 'Sunil Ranka, Roger Magoulas and Steve Swoyer'}]     1\n",
       "Name: authors, dtype: int64"
      ]
     },
     "execution_count": 286,
     "metadata": {},
     "output_type": "execute_result"
    }
   ],
   "source": [
    "df1 =df['authors'].value_counts()\n",
    "df1"
   ]
  },
  {
   "cell_type": "markdown",
   "metadata": {},
   "source": [
    "### 11. Add a new column to the data frame that contains the length (number of characters) of each entry title. Return a data frame that contains the title, author, and title length of each entry in descending order (longest title length at the top)."
   ]
  },
  {
   "cell_type": "code",
   "execution_count": 291,
   "metadata": {},
   "outputs": [
    {
     "data": {
      "text/html": [
       "<div>\n",
       "<style scoped>\n",
       "    .dataframe tbody tr th:only-of-type {\n",
       "        vertical-align: middle;\n",
       "    }\n",
       "\n",
       "    .dataframe tbody tr th {\n",
       "        vertical-align: top;\n",
       "    }\n",
       "\n",
       "    .dataframe thead th {\n",
       "        text-align: right;\n",
       "    }\n",
       "</style>\n",
       "<table border=\"1\" class=\"dataframe\">\n",
       "  <thead>\n",
       "    <tr style=\"text-align: right;\">\n",
       "      <th></th>\n",
       "      <th>title</th>\n",
       "      <th>authors</th>\n",
       "    </tr>\n",
       "  </thead>\n",
       "  <tbody>\n",
       "    <tr>\n",
       "      <th>0</th>\n",
       "      <td>Four short links: 4 December 2019</td>\n",
       "      <td>[{'name': 'Nat Torkington'}]</td>\n",
       "    </tr>\n",
       "    <tr>\n",
       "      <th>1</th>\n",
       "      <td>Use your people as competitive advantage</td>\n",
       "      <td>[{'name': 'Pamela Rucker'}]</td>\n",
       "    </tr>\n",
       "    <tr>\n",
       "      <th>2</th>\n",
       "      <td>Four short links: 3 December 2019</td>\n",
       "      <td>[{'name': 'Nat Torkington'}]</td>\n",
       "    </tr>\n",
       "    <tr>\n",
       "      <th>3</th>\n",
       "      <td>A 5G future</td>\n",
       "      <td>[{'name': 'Mike Loukides'}]</td>\n",
       "    </tr>\n",
       "    <tr>\n",
       "      <th>4</th>\n",
       "      <td>Four short links: 2 December 2019</td>\n",
       "      <td>[{'name': 'Nat Torkington'}]</td>\n",
       "    </tr>\n",
       "    <tr>\n",
       "      <th>5</th>\n",
       "      <td>Four short links: 29 November 2019</td>\n",
       "      <td>[{'name': 'Nat Torkington'}]</td>\n",
       "    </tr>\n",
       "    <tr>\n",
       "      <th>6</th>\n",
       "      <td>Four short links: 28 November 2019</td>\n",
       "      <td>[{'name': 'Nat Torkington'}]</td>\n",
       "    </tr>\n",
       "    <tr>\n",
       "      <th>7</th>\n",
       "      <td>Four short links: 27 November 2019</td>\n",
       "      <td>[{'name': 'Nat Torkington'}]</td>\n",
       "    </tr>\n",
       "    <tr>\n",
       "      <th>8</th>\n",
       "      <td>Moving AI and ML from research into production</td>\n",
       "      <td>[{'name': 'Jenn Webb'}]</td>\n",
       "    </tr>\n",
       "    <tr>\n",
       "      <th>9</th>\n",
       "      <td>Four short links: 26 November 2019</td>\n",
       "      <td>[{'name': 'Nat Torkington'}]</td>\n",
       "    </tr>\n",
       "    <tr>\n",
       "      <th>10</th>\n",
       "      <td>Four short links: 25 November 2019</td>\n",
       "      <td>[{'name': 'Nat Torkington'}]</td>\n",
       "    </tr>\n",
       "    <tr>\n",
       "      <th>11</th>\n",
       "      <td>Four short links: 22 November 2019</td>\n",
       "      <td>[{'name': 'Nat Torkington'}]</td>\n",
       "    </tr>\n",
       "    <tr>\n",
       "      <th>12</th>\n",
       "      <td>Why you should care about robotic process auto...</td>\n",
       "      <td>[{'name': 'Sunil Ranka, Roger Magoulas and Ste...</td>\n",
       "    </tr>\n",
       "    <tr>\n",
       "      <th>13</th>\n",
       "      <td>Unraveling the mystery of code</td>\n",
       "      <td>[{'name': 'Jenn Webb'}]</td>\n",
       "    </tr>\n",
       "    <tr>\n",
       "      <th>14</th>\n",
       "      <td>Four short links: 21 November 2019</td>\n",
       "      <td>[{'name': 'Nat Torkington'}]</td>\n",
       "    </tr>\n",
       "    <tr>\n",
       "      <th>15</th>\n",
       "      <td>Four short links: 20 November 2019</td>\n",
       "      <td>[{'name': 'Nat Torkington'}]</td>\n",
       "    </tr>\n",
       "    <tr>\n",
       "      <th>16</th>\n",
       "      <td>There’s a path to an AI ROI</td>\n",
       "      <td>[{'name': 'Jenn Webb'}]</td>\n",
       "    </tr>\n",
       "    <tr>\n",
       "      <th>17</th>\n",
       "      <td>Four short links: 19 November 2019</td>\n",
       "      <td>[{'name': 'Nat Torkington'}]</td>\n",
       "    </tr>\n",
       "  </tbody>\n",
       "</table>\n",
       "</div>"
      ],
      "text/plain": [
       "                                                title  \\\n",
       "0                   Four short links: 4 December 2019   \n",
       "1            Use your people as competitive advantage   \n",
       "2                   Four short links: 3 December 2019   \n",
       "3                                         A 5G future   \n",
       "4                   Four short links: 2 December 2019   \n",
       "5                  Four short links: 29 November 2019   \n",
       "6                  Four short links: 28 November 2019   \n",
       "7                  Four short links: 27 November 2019   \n",
       "8      Moving AI and ML from research into production   \n",
       "9                  Four short links: 26 November 2019   \n",
       "10                 Four short links: 25 November 2019   \n",
       "11                 Four short links: 22 November 2019   \n",
       "12  Why you should care about robotic process auto...   \n",
       "13                     Unraveling the mystery of code   \n",
       "14                 Four short links: 21 November 2019   \n",
       "15                 Four short links: 20 November 2019   \n",
       "16                        There’s a path to an AI ROI   \n",
       "17                 Four short links: 19 November 2019   \n",
       "\n",
       "                                              authors  \n",
       "0                        [{'name': 'Nat Torkington'}]  \n",
       "1                         [{'name': 'Pamela Rucker'}]  \n",
       "2                        [{'name': 'Nat Torkington'}]  \n",
       "3                         [{'name': 'Mike Loukides'}]  \n",
       "4                        [{'name': 'Nat Torkington'}]  \n",
       "5                        [{'name': 'Nat Torkington'}]  \n",
       "6                        [{'name': 'Nat Torkington'}]  \n",
       "7                        [{'name': 'Nat Torkington'}]  \n",
       "8                             [{'name': 'Jenn Webb'}]  \n",
       "9                        [{'name': 'Nat Torkington'}]  \n",
       "10                       [{'name': 'Nat Torkington'}]  \n",
       "11                       [{'name': 'Nat Torkington'}]  \n",
       "12  [{'name': 'Sunil Ranka, Roger Magoulas and Ste...  \n",
       "13                            [{'name': 'Jenn Webb'}]  \n",
       "14                       [{'name': 'Nat Torkington'}]  \n",
       "15                       [{'name': 'Nat Torkington'}]  \n",
       "16                            [{'name': 'Jenn Webb'}]  \n",
       "17                       [{'name': 'Nat Torkington'}]  "
      ]
     },
     "execution_count": 291,
     "metadata": {},
     "output_type": "execute_result"
    }
   ],
   "source": [
    "df2 = df[['title','authors']]\n",
    "number_of_characters = [len(post.title)]\n",
    "df2"
   ]
  },
  {
   "cell_type": "markdown",
   "metadata": {},
   "source": [
    "### 12. Create a list of entry titles whose summary includes the phrase \"machine learning.\""
   ]
  },
  {
   "cell_type": "code",
   "execution_count": null,
   "metadata": {},
   "outputs": [],
   "source": []
  }
 ],
 "metadata": {
  "kernelspec": {
   "display_name": "Python [conda env:ironhack_env]",
   "language": "python",
   "name": "conda-env-ironhack_env-py"
  },
  "language_info": {
   "codemirror_mode": {
    "name": "ipython",
    "version": 3
   },
   "file_extension": ".py",
   "mimetype": "text/x-python",
   "name": "python",
   "nbconvert_exporter": "python",
   "pygments_lexer": "ipython3",
   "version": "3.7.5"
  }
 },
 "nbformat": 4,
 "nbformat_minor": 2
}
