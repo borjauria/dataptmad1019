{
 "cells": [
  {
   "cell_type": "markdown",
   "metadata": {},
   "source": [
    "## 1. Import the NUMPY package under the name np."
   ]
  },
  {
   "cell_type": "code",
   "execution_count": 20,
   "metadata": {},
   "outputs": [],
   "source": [
    "import numpy as np"
   ]
  },
  {
   "cell_type": "markdown",
   "metadata": {},
   "source": [
    "## 2. Print the NUMPY version and the configuration."
   ]
  },
  {
   "cell_type": "code",
   "execution_count": 2,
   "metadata": {},
   "outputs": [
    {
     "name": "stdout",
     "output_type": "stream",
     "text": [
      "The numpy's version is 1.17.3\n",
      "blas_mkl_info:\n",
      "    libraries = ['mkl_rt', 'pthread']\n",
      "    library_dirs = ['/Users/borjauria/miniconda3/envs/ironhack_env/lib']\n",
      "    define_macros = [('SCIPY_MKL_H', None), ('HAVE_CBLAS', None)]\n",
      "    include_dirs = ['/Users/borjauria/miniconda3/envs/ironhack_env/include']\n",
      "blas_opt_info:\n",
      "    libraries = ['mkl_rt', 'pthread']\n",
      "    library_dirs = ['/Users/borjauria/miniconda3/envs/ironhack_env/lib']\n",
      "    define_macros = [('SCIPY_MKL_H', None), ('HAVE_CBLAS', None)]\n",
      "    include_dirs = ['/Users/borjauria/miniconda3/envs/ironhack_env/include']\n",
      "lapack_mkl_info:\n",
      "    libraries = ['mkl_rt', 'pthread']\n",
      "    library_dirs = ['/Users/borjauria/miniconda3/envs/ironhack_env/lib']\n",
      "    define_macros = [('SCIPY_MKL_H', None), ('HAVE_CBLAS', None)]\n",
      "    include_dirs = ['/Users/borjauria/miniconda3/envs/ironhack_env/include']\n",
      "lapack_opt_info:\n",
      "    libraries = ['mkl_rt', 'pthread']\n",
      "    library_dirs = ['/Users/borjauria/miniconda3/envs/ironhack_env/lib']\n",
      "    define_macros = [('SCIPY_MKL_H', None), ('HAVE_CBLAS', None)]\n",
      "    include_dirs = ['/Users/borjauria/miniconda3/envs/ironhack_env/include']\n",
      "None\n"
     ]
    }
   ],
   "source": [
    "#your code here\n",
    "print(\"The numpy's version is\", np.__version__)\n",
    "print(np.show_config())"
   ]
  },
  {
   "cell_type": "markdown",
   "metadata": {},
   "source": [
    "## 3. Generate a 2x3x5 \n",
    "3-dimensional array with random values. \n",
    "Assign the array to variable \"a\"\n",
    "\n",
    "Challenge: there are at least three easy ways that use numpy to generate random arrays. How many ways can you find?"
   ]
  },
  {
   "cell_type": "code",
   "execution_count": 3,
   "metadata": {},
   "outputs": [],
   "source": [
    "#your code here\n",
    "a = np.random.random((2,3,5))"
   ]
  },
  {
   "cell_type": "markdown",
   "metadata": {},
   "source": [
    "## 4. Print a."
   ]
  },
  {
   "cell_type": "code",
   "execution_count": 4,
   "metadata": {},
   "outputs": [
    {
     "name": "stdout",
     "output_type": "stream",
     "text": [
      "[[[0.41929259 0.73578885 0.80842069 0.24482095 0.37292415]\n",
      "  [0.84379975 0.76310282 0.77074916 0.06021745 0.72869042]\n",
      "  [0.2893372  0.21509206 0.91584989 0.85811977 0.48101094]]\n",
      "\n",
      " [[0.87145984 0.3301851  0.5527052  0.54632102 0.14678472]\n",
      "  [0.91140174 0.16621195 0.04135208 0.52852218 0.54267907]\n",
      "  [0.22113063 0.39438675 0.20307375 0.91976928 0.18218108]]]\n"
     ]
    }
   ],
   "source": [
    "#your code here\n",
    "print(a)"
   ]
  },
  {
   "cell_type": "markdown",
   "metadata": {},
   "source": [
    "## 5. Create a 5x2x3 \n",
    "3-dimensional array with all values equaling 1.\n",
    "#Assign the array to variable \"b\""
   ]
  },
  {
   "cell_type": "code",
   "execution_count": 5,
   "metadata": {},
   "outputs": [],
   "source": [
    "#your code here\n",
    "b = np.ones((5,2,3))"
   ]
  },
  {
   "cell_type": "markdown",
   "metadata": {},
   "source": [
    "## 6. Print b."
   ]
  },
  {
   "cell_type": "code",
   "execution_count": 6,
   "metadata": {},
   "outputs": [
    {
     "name": "stdout",
     "output_type": "stream",
     "text": [
      "[[[1. 1. 1.]\n",
      "  [1. 1. 1.]]\n",
      "\n",
      " [[1. 1. 1.]\n",
      "  [1. 1. 1.]]\n",
      "\n",
      " [[1. 1. 1.]\n",
      "  [1. 1. 1.]]\n",
      "\n",
      " [[1. 1. 1.]\n",
      "  [1. 1. 1.]]\n",
      "\n",
      " [[1. 1. 1.]\n",
      "  [1. 1. 1.]]]\n"
     ]
    }
   ],
   "source": [
    "#your code here\n",
    "print(b)"
   ]
  },
  {
   "cell_type": "markdown",
   "metadata": {},
   "source": [
    "## 7. Do a and b have the same size? How do you prove that in Python code?"
   ]
  },
  {
   "cell_type": "code",
   "execution_count": 7,
   "metadata": {},
   "outputs": [
    {
     "name": "stdout",
     "output_type": "stream",
     "text": [
      "The size of array a is 30 and the size of array b is 30, a and b are the same size\n"
     ]
    }
   ],
   "source": [
    "#your code here\n",
    "print(f'The size of array a is {a.size} and the size of array b is {b.size}', end='')\n",
    "\n",
    "if a.size == b.size:\n",
    "    print(', a and b are the same size')\n",
    "    \n",
    "else:\n",
    "    print(', a and b are not the same size')"
   ]
  },
  {
   "cell_type": "markdown",
   "metadata": {},
   "source": [
    "## 8. Are you able to add a and b? Why or why not?"
   ]
  },
  {
   "cell_type": "code",
   "execution_count": 8,
   "metadata": {},
   "outputs": [],
   "source": [
    "#I can't add a and b because operands could not be broadcast together with shapes"
   ]
  },
  {
   "cell_type": "markdown",
   "metadata": {},
   "source": [
    "## 9. Transpose b so that it has the same structure of a (i.e. become a 2x3x5 array). Assign the transposed array to varialbe \"c\"."
   ]
  },
  {
   "cell_type": "code",
   "execution_count": 9,
   "metadata": {},
   "outputs": [
    {
     "data": {
      "text/plain": [
       "array([[[1., 1., 1., 1., 1.],\n",
       "        [1., 1., 1., 1., 1.],\n",
       "        [1., 1., 1., 1., 1.]],\n",
       "\n",
       "       [[1., 1., 1., 1., 1.],\n",
       "        [1., 1., 1., 1., 1.],\n",
       "        [1., 1., 1., 1., 1.]]])"
      ]
     },
     "execution_count": 9,
     "metadata": {},
     "output_type": "execute_result"
    }
   ],
   "source": [
    "#your code here\n",
    "c = b.reshape(2,3,5)\n",
    "c"
   ]
  },
  {
   "cell_type": "markdown",
   "metadata": {},
   "source": [
    "## 10. Try to add a and c. Now it should work. Assign the sum to varialbe \"d\". But why does it work now?"
   ]
  },
  {
   "cell_type": "code",
   "execution_count": 10,
   "metadata": {},
   "outputs": [
    {
     "data": {
      "text/plain": [
       "array([[[1.41929259, 1.73578885, 1.80842069, 1.24482095, 1.37292415],\n",
       "        [1.84379975, 1.76310282, 1.77074916, 1.06021745, 1.72869042],\n",
       "        [1.2893372 , 1.21509206, 1.91584989, 1.85811977, 1.48101094]],\n",
       "\n",
       "       [[1.87145984, 1.3301851 , 1.5527052 , 1.54632102, 1.14678472],\n",
       "        [1.91140174, 1.16621195, 1.04135208, 1.52852218, 1.54267907],\n",
       "        [1.22113063, 1.39438675, 1.20307375, 1.91976928, 1.18218108]]])"
      ]
     },
     "execution_count": 10,
     "metadata": {},
     "output_type": "execute_result"
    }
   ],
   "source": [
    "#your code here\n",
    "d = np.add(a,c)\n",
    "d"
   ]
  },
  {
   "cell_type": "markdown",
   "metadata": {},
   "source": [
    "## 11. Print a and d. Notice the difference and relation of the two array in terms of the values? Explain."
   ]
  },
  {
   "cell_type": "code",
   "execution_count": 11,
   "metadata": {},
   "outputs": [
    {
     "name": "stdout",
     "output_type": "stream",
     "text": [
      "[[[0.41929259 0.73578885 0.80842069 0.24482095 0.37292415]\n",
      "  [0.84379975 0.76310282 0.77074916 0.06021745 0.72869042]\n",
      "  [0.2893372  0.21509206 0.91584989 0.85811977 0.48101094]]\n",
      "\n",
      " [[0.87145984 0.3301851  0.5527052  0.54632102 0.14678472]\n",
      "  [0.91140174 0.16621195 0.04135208 0.52852218 0.54267907]\n",
      "  [0.22113063 0.39438675 0.20307375 0.91976928 0.18218108]]]\n",
      "[[[1.41929259 1.73578885 1.80842069 1.24482095 1.37292415]\n",
      "  [1.84379975 1.76310282 1.77074916 1.06021745 1.72869042]\n",
      "  [1.2893372  1.21509206 1.91584989 1.85811977 1.48101094]]\n",
      "\n",
      " [[1.87145984 1.3301851  1.5527052  1.54632102 1.14678472]\n",
      "  [1.91140174 1.16621195 1.04135208 1.52852218 1.54267907]\n",
      "  [1.22113063 1.39438675 1.20307375 1.91976928 1.18218108]]]\n"
     ]
    }
   ],
   "source": [
    "#your code here\n",
    "print(a)\n",
    "print(d)"
   ]
  },
  {
   "cell_type": "markdown",
   "metadata": {},
   "source": [
    "## 12. Multiply a and c. Assign the result to e."
   ]
  },
  {
   "cell_type": "code",
   "execution_count": 19,
   "metadata": {},
   "outputs": [
    {
     "data": {
      "text/plain": [
       "array([[[0.41929259, 0.73578885, 0.80842069, 0.24482095, 0.37292415],\n",
       "        [0.84379975, 0.76310282, 0.77074916, 0.06021745, 0.72869042],\n",
       "        [0.2893372 , 0.21509206, 0.91584989, 0.85811977, 0.48101094]],\n",
       "\n",
       "       [[0.87145984, 0.3301851 , 0.5527052 , 0.54632102, 0.14678472],\n",
       "        [0.91140174, 0.16621195, 0.04135208, 0.52852218, 0.54267907],\n",
       "        [0.22113063, 0.39438675, 0.20307375, 0.91976928, 0.18218108]]])"
      ]
     },
     "execution_count": 19,
     "metadata": {},
     "output_type": "execute_result"
    }
   ],
   "source": [
    "#your code here\n",
    "#e = np.multiply(a,c)\n",
    "e = a * c\n",
    "e"
   ]
  },
  {
   "cell_type": "markdown",
   "metadata": {},
   "source": [
    "## 13. Does e equal to a? Why or why not?"
   ]
  },
  {
   "cell_type": "code",
   "execution_count": 13,
   "metadata": {},
   "outputs": [
    {
     "data": {
      "text/plain": [
       "True"
      ]
     },
     "execution_count": 13,
     "metadata": {},
     "output_type": "execute_result"
    }
   ],
   "source": [
    "#your code here\n",
    "np.array_equal(e,a)"
   ]
  },
  {
   "cell_type": "markdown",
   "metadata": {},
   "source": [
    "## 14. Identify the max, min, and mean values in d. \n",
    "Assign those values to variables \"d_max\", \"d_min\", and \"d_mean\""
   ]
  },
  {
   "cell_type": "code",
   "execution_count": 14,
   "metadata": {},
   "outputs": [
    {
     "name": "stdout",
     "output_type": "stream",
     "text": [
      "0.9197692788760209\n",
      "0.041352076734675225\n",
      "0.5021793697382928\n"
     ]
    }
   ],
   "source": [
    "#your code here\n",
    "d_max = np.max(a)\n",
    "d_min = np.min(a)\n",
    "d_mean = np.mean(a)\n",
    "print(d_max)\n",
    "print(d_min)\n",
    "print(d_mean)"
   ]
  },
  {
   "cell_type": "markdown",
   "metadata": {},
   "source": [
    "## 15. Now we want to label the values in d. \n",
    "First create an empty array \"f\" with the same shape (i.e. 2x3x5) as d using `np.empty`."
   ]
  },
  {
   "cell_type": "code",
   "execution_count": 15,
   "metadata": {},
   "outputs": [
    {
     "data": {
      "text/plain": [
       "array([[[1.41929259, 1.73578885, 1.80842069, 1.24482095, 1.37292415],\n",
       "        [1.84379975, 1.76310282, 1.77074916, 1.06021745, 1.72869042],\n",
       "        [1.2893372 , 1.21509206, 1.91584989, 1.85811977, 1.48101094]],\n",
       "\n",
       "       [[1.87145984, 1.3301851 , 1.5527052 , 1.54632102, 1.14678472],\n",
       "        [1.91140174, 1.16621195, 1.04135208, 1.52852218, 1.54267907],\n",
       "        [1.22113063, 1.39438675, 1.20307375, 1.91976928, 1.18218108]]])"
      ]
     },
     "execution_count": 15,
     "metadata": {},
     "output_type": "execute_result"
    }
   ],
   "source": [
    "#your code here\n",
    "d = np.empty((2,3,5))\n",
    "d"
   ]
  },
  {
   "cell_type": "markdown",
   "metadata": {},
   "source": [
    "## 16. Populate the values in f. For each value in d, if it's larger than d_min but smaller than d_mean, assign 25 to the corresponding value in f.\n",
    "If a value in d is larger than d_mean but smaller than d_max, assign 75 to the corresponding value in f.\n",
    "If a value equals to d_mean, assign 50 to the corresponding value in f.\n",
    "Assign 0 to the corresponding value(s) in f for d_min in d.\n",
    "Assign 100 to the corresponding value(s) in f for d_max in d.\n",
    "In the end, f should have only the following values: 0, 25, 50, 75, and 100.\n",
    "Note: you don't have to use Numpy in this question."
   ]
  },
  {
   "cell_type": "code",
   "execution_count": 16,
   "metadata": {},
   "outputs": [
    {
     "name": "stdout",
     "output_type": "stream",
     "text": [
      "1 2 4\n"
     ]
    }
   ],
   "source": [
    "#your code here\n",
    "for x in range(len(d)):\n",
    "    for y in range(len(d[x])):\n",
    "        for z in range(len(d[x][y])):\n",
    "            if d[x][y][z] > d_min and d[x][y][z] < d_mean:\n",
    "                    f[x][y][z]= 25\n",
    "            elif d[x][y][z] > d_mean and d[x][y][z] < d_max:\n",
    "                    f[x][y][z]= 75\n",
    "            elif d[x][y][z] == d_mean:\n",
    "                    f[x][y][z] = 50\n",
    "            elif d[x][y][z] == d_min:\n",
    "                    f[x][y][z] = 0\n",
    "            elif d[x][y][z] == d_max:\n",
    "                    f[x][y][z] = 100\n",
    "                    \n",
    "print(x,y,z)"
   ]
  },
  {
   "cell_type": "markdown",
   "metadata": {},
   "source": [
    "## 17. Print d and f. Do you have your expected f?\n",
    "\n",
    "For instance, if your d is:\n",
    "\n",
    "array ([[[1.85836099, 1.67064465, 1.62576044, 1.40243961, 1.88454931],\n",
    "        [1.75354326, 1.69403643, 1.36729252, 1.61415071, 1.12104981],\n",
    "        [1.72201435, 1.1862918 , 1.87078449, 1.7726778 , 1.88180042]],\n",
    "       [[1.44747908, 1.31673383, 1.02000951, 1.52218947, 1.97066381],\n",
    "        [1.79129243, 1.74983003, 1.96028037, 1.85166831, 1.65450881],\n",
    "        [1.18068344, 1.9587381 , 1.00656599, 1.93402165, 1.73514584]]])\n",
    "Your f should be:\n",
    "array ([[[ 75.,  75.,  75.,  25.,  75.],\n",
    "        [ 75.,  75.,  25.,  25.,  25.],\n",
    "        [ 75.,  25.,  75.,  75.,  75.]],\n",
    "       [[ 25.,  25.,  25.,  25., 100.],\n",
    "        [ 75.,  75.,  75.,  75.,  75.],\n",
    "        [ 25.,  75.,   0.,  75.,  75.]]])"
   ]
  },
  {
   "cell_type": "code",
   "execution_count": 1,
   "metadata": {},
   "outputs": [],
   "source": [
    "d = ([[[1.85836099, 1.67064465, 1.62576044, 1.40243961, 1.88454931],\n",
    "        [1.75354326, 1.69403643, 1.36729252, 1.61415071, 1.12104981],\n",
    "        [1.72201435, 1.1862918 , 1.87078449, 1.7726778 , 1.88180042]],\n",
    "       [[1.44747908, 1.31673383, 1.02000951, 1.52218947, 1.97066381],\n",
    "        [1.79129243, 1.74983003, 1.96028037, 1.85166831, 1.65450881],\n",
    "        [1.18068344, 1.9587381 , 1.00656599, 1.93402165, 1.73514584]]])\n",
    "#Your f should be:\n",
    "\n",
    "f = ([[[ 75.,  75.,  75.,  25.,  75.],\n",
    "       [ 75.,  75.,  25.,  25.,  25.],\n",
    "       [ 75.,  25.,  75.,  75.,  75.]],\n",
    "       [[ 25.,  25.,  25.,  25., 100.],\n",
    "        [ 75.,  75.,  75.,  75.,  75.],\n",
    "        [ 25.,  75.,   0.,  75.,  75.]]])"
   ]
  },
  {
   "cell_type": "code",
   "execution_count": 2,
   "metadata": {
    "scrolled": true
   },
   "outputs": [
    {
     "name": "stdout",
     "output_type": "stream",
     "text": [
      "[[[1.85836099, 1.67064465, 1.62576044, 1.40243961, 1.88454931], [1.75354326, 1.69403643, 1.36729252, 1.61415071, 1.12104981], [1.72201435, 1.1862918, 1.87078449, 1.7726778, 1.88180042]], [[1.44747908, 1.31673383, 1.02000951, 1.52218947, 1.97066381], [1.79129243, 1.74983003, 1.96028037, 1.85166831, 1.65450881], [1.18068344, 1.9587381, 1.00656599, 1.93402165, 1.73514584]]]\n",
      "[[[75.0, 75.0, 75.0, 25.0, 75.0], [75.0, 75.0, 25.0, 25.0, 25.0], [75.0, 25.0, 75.0, 75.0, 75.0]], [[25.0, 25.0, 25.0, 25.0, 100.0], [75.0, 75.0, 75.0, 75.0, 75.0], [25.0, 75.0, 0.0, 75.0, 75.0]]]\n"
     ]
    }
   ],
   "source": [
    "print(d)\n",
    "print(f)"
   ]
  },
  {
   "cell_type": "markdown",
   "metadata": {},
   "source": [
    "## 18. Bonus question: instead of using numbers (i.e. 0, 25, 50, 75, and 100), how to use string values \n",
    "\n",
    "(\"A\", \"B\", \"C\", \"D\", and \"E\") to label the array elements? You are expecting the result to be:\n",
    "array([[[ 'D',  'D',  'D',  'B',  'D'],\n",
    "        [ 'D',  'D',  'B',  'B',  'B'],\n",
    "        [ 'D',  'B',  'D',  'D',  'D']],\n",
    "       [[ 'B',  'B',  'B',  'B',  'E'],\n",
    "        [ 'D',  'D',  'D',  'D',  'D'],\n",
    "        [ 'B',  'D',   'A',  'D', 'D']]])\n",
    "\n",
    "Again, you don't need Numpy in this question."
   ]
  }
 ],
 "metadata": {
  "kernelspec": {
   "display_name": "ironhack_env",
   "language": "python",
   "name": "ironhack_env"
  },
  "language_info": {
   "codemirror_mode": {
    "name": "ipython",
    "version": 3
   },
   "file_extension": ".py",
   "mimetype": "text/x-python",
   "name": "python",
   "nbconvert_exporter": "python",
   "pygments_lexer": "ipython3",
   "version": "3.7.5"
  }
 },
 "nbformat": 4,
 "nbformat_minor": 2
}
